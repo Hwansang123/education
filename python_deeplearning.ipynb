{
 "cells": [
  {
   "cell_type": "code",
   "execution_count": 1,
   "id": "45fd13a3-09fc-482f-805c-ba67d547a003",
   "metadata": {},
   "outputs": [
    {
     "name": "stdout",
     "output_type": "stream",
     "text": [
      "WARNING:tensorflow:From C:\\Users\\user\\anaconda3\\Lib\\site-packages\\keras\\src\\losses.py:2976: The name tf.losses.sparse_softmax_cross_entropy is deprecated. Please use tf.compat.v1.losses.sparse_softmax_cross_entropy instead.\n",
      "\n"
     ]
    }
   ],
   "source": [
    "import socket\n",
    "import numpy as np\n",
    "import tensorflow as tf\n",
    "import matplotlib.pyplot as plt\n",
    "import os\n",
    "from keras.models import load_model\n",
    "from PIL import Image\n",
    "from keras.preprocessing import image"
   ]
  },
  {
   "cell_type": "code",
   "execution_count": 13,
   "id": "ec411843-a09c-4fb4-baa3-88d5a94407dd",
   "metadata": {},
   "outputs": [
    {
     "name": "stdout",
     "output_type": "stream",
     "text": [
      "접속대기중\n",
      "55793\n",
      "File saved: C:/Users/user/Desktop/save/python/received_file.jpg\n",
      "1/1 [==============================] - 0s 206ms/step\n",
      "결과는 pass\n",
      "63360\n",
      "File saved: C:/Users/user/Desktop/save/python/received_file.jpg\n",
      "1/1 [==============================] - 0s 218ms/step\n",
      "결과는 pass\n",
      "61994\n",
      "File saved: C:/Users/user/Desktop/save/python/received_file.jpg\n",
      "1/1 [==============================] - 0s 205ms/step\n",
      "결과는 pass\n",
      "55147\n",
      "File saved: C:/Users/user/Desktop/save/python/received_file.jpg\n",
      "1/1 [==============================] - 0s 207ms/step\n",
      "결과는 pass\n",
      "68679\n",
      "File saved: C:/Users/user/Desktop/save/python/received_file.jpg\n",
      "1/1 [==============================] - 0s 202ms/step\n",
      "결과는 false\n",
      "49093\n",
      "File saved: C:/Users/user/Desktop/save/python/received_file.jpg\n",
      "1/1 [==============================] - 0s 208ms/step\n",
      "결과는 pass\n",
      "45318\n",
      "File saved: C:/Users/user/Desktop/save/python/received_file.jpg\n",
      "1/1 [==============================] - 0s 204ms/step\n",
      "결과는 pass\n",
      "45101\n",
      "File saved: C:/Users/user/Desktop/save/python/received_file.jpg\n",
      "1/1 [==============================] - 0s 203ms/step\n",
      "결과는 false\n",
      "48326\n",
      "File saved: C:/Users/user/Desktop/save/python/received_file.jpg\n",
      "1/1 [==============================] - 0s 203ms/step\n",
      "결과는 pass\n",
      "75879\n",
      "File saved: C:/Users/user/Desktop/save/python/received_file.jpg\n",
      "1/1 [==============================] - 0s 208ms/step\n",
      "결과는 false\n",
      "75560\n",
      "File saved: C:/Users/user/Desktop/save/python/received_file.jpg\n"
     ]
    },
    {
     "ename": "OSError",
     "evalue": "image file is truncated (25 bytes not processed)",
     "output_type": "error",
     "traceback": [
      "\u001b[1;31m---------------------------------------------------------------------------\u001b[0m",
      "\u001b[1;31mOSError\u001b[0m                                   Traceback (most recent call last)",
      "Cell \u001b[1;32mIn[13], line 20\u001b[0m\n\u001b[0;32m     18\u001b[0m image_path \u001b[38;5;241m=\u001b[39m save_path\n\u001b[0;32m     19\u001b[0m image \u001b[38;5;241m=\u001b[39m Image\u001b[38;5;241m.\u001b[39mopen(image_path)\n\u001b[1;32m---> 20\u001b[0m image \u001b[38;5;241m=\u001b[39m image\u001b[38;5;241m.\u001b[39mresize((\u001b[38;5;241m150\u001b[39m, \u001b[38;5;241m150\u001b[39m))\n\u001b[0;32m     21\u001b[0m image \u001b[38;5;241m=\u001b[39m np\u001b[38;5;241m.\u001b[39marray(image) \u001b[38;5;241m/\u001b[39m \u001b[38;5;241m255.0\u001b[39m\n\u001b[0;32m     23\u001b[0m predictions \u001b[38;5;241m=\u001b[39m model\u001b[38;5;241m.\u001b[39mpredict(np\u001b[38;5;241m.\u001b[39mexpand_dims(image, axis\u001b[38;5;241m=\u001b[39m\u001b[38;5;241m0\u001b[39m))\n",
      "File \u001b[1;32m~\\anaconda3\\Lib\\site-packages\\PIL\\Image.py:2164\u001b[0m, in \u001b[0;36mImage.resize\u001b[1;34m(self, size, resample, box, reducing_gap)\u001b[0m\n\u001b[0;32m   2160\u001b[0m     \u001b[38;5;28;01mraise\u001b[39;00m \u001b[38;5;167;01mValueError\u001b[39;00m(msg)\n\u001b[0;32m   2162\u001b[0m size \u001b[38;5;241m=\u001b[39m \u001b[38;5;28mtuple\u001b[39m(size)\n\u001b[1;32m-> 2164\u001b[0m \u001b[38;5;28mself\u001b[39m\u001b[38;5;241m.\u001b[39mload()\n\u001b[0;32m   2165\u001b[0m \u001b[38;5;28;01mif\u001b[39;00m box \u001b[38;5;129;01mis\u001b[39;00m \u001b[38;5;28;01mNone\u001b[39;00m:\n\u001b[0;32m   2166\u001b[0m     box \u001b[38;5;241m=\u001b[39m (\u001b[38;5;241m0\u001b[39m, \u001b[38;5;241m0\u001b[39m) \u001b[38;5;241m+\u001b[39m \u001b[38;5;28mself\u001b[39m\u001b[38;5;241m.\u001b[39msize\n",
      "File \u001b[1;32m~\\anaconda3\\Lib\\site-packages\\PIL\\ImageFile.py:288\u001b[0m, in \u001b[0;36mImageFile.load\u001b[1;34m(self)\u001b[0m\n\u001b[0;32m    283\u001b[0m     \u001b[38;5;28;01melse\u001b[39;00m:\n\u001b[0;32m    284\u001b[0m         msg \u001b[38;5;241m=\u001b[39m (\n\u001b[0;32m    285\u001b[0m             \u001b[38;5;124m\"\u001b[39m\u001b[38;5;124mimage file is truncated \u001b[39m\u001b[38;5;124m\"\u001b[39m\n\u001b[0;32m    286\u001b[0m             \u001b[38;5;124mf\u001b[39m\u001b[38;5;124m\"\u001b[39m\u001b[38;5;124m(\u001b[39m\u001b[38;5;132;01m{\u001b[39;00m\u001b[38;5;28mlen\u001b[39m(b)\u001b[38;5;132;01m}\u001b[39;00m\u001b[38;5;124m bytes not processed)\u001b[39m\u001b[38;5;124m\"\u001b[39m\n\u001b[0;32m    287\u001b[0m         )\n\u001b[1;32m--> 288\u001b[0m         \u001b[38;5;28;01mraise\u001b[39;00m \u001b[38;5;167;01mOSError\u001b[39;00m(msg)\n\u001b[0;32m    290\u001b[0m b \u001b[38;5;241m=\u001b[39m b \u001b[38;5;241m+\u001b[39m s\n\u001b[0;32m    291\u001b[0m n, err_code \u001b[38;5;241m=\u001b[39m decoder\u001b[38;5;241m.\u001b[39mdecode(b)\n",
      "\u001b[1;31mOSError\u001b[0m: image file is truncated (25 bytes not processed)"
     ]
    }
   ],
   "source": [
    "serv_ip=\"127.0.0.1\"\n",
    "serv_port=12345\n",
    "# 서버에 연결\n",
    "client_socket = socket.socket(socket.AF_INET, socket.SOCK_STREAM)\n",
    "client_socket.connect((serv_ip, serv_port))\n",
    "print(\"접속대기중\")\n",
    "while True:\n",
    "    file_info = client_socket.recv(1024)\n",
    "    file_size = int.from_bytes(file_info, byteorder='little')\n",
    "    # received_data = b\"\"\n",
    "    print(\"파일크기는:\",file_size)\n",
    "    data = client_socket.recv(file_size)\n",
    "    save_path = 'C:/Users/user/Desktop/save/python/received_file.jpg'\n",
    "    print(f\"File saved: {save_path}\")\n",
    "    with open(save_path, 'wb') as file:\n",
    "        file.write(data)\n",
    "    model = load_model('D:/pythonProject/pythonProject1/best_model.h5')\n",
    "    image_path = save_path\n",
    "    image = Image.open(image_path)\n",
    "    image = image.resize((150, 150))\n",
    "    image = np.array(image) / 255.0\n",
    "    \n",
    "    predictions = model.predict(np.expand_dims(image, axis=0))\n",
    "    \n",
    "    # 임계값에 따른 합격/탈락 판단\n",
    "    if predictions[0] > 0.9:\n",
    "        result = \"pass\"\n",
    "        # print(result)\n",
    "    else:\n",
    "        result = \"false\"\n",
    "        # print(result)\n",
    "    # return result\n",
    "    print(\"결과는:\",result)\n",
    "    # 연결 종료\n",
    "    # msg=result\n",
    "    client_socket.send(result.encode('utf-8'))\n",
    "    # client_socket.close()        "
   ]
  },
  {
   "cell_type": "code",
   "execution_count": 8,
   "id": "bd7fc5cb-14ed-422a-a824-67d9a7d11d21",
   "metadata": {},
   "outputs": [
    {
     "name": "stdout",
     "output_type": "stream",
     "text": [
      "WARNING:tensorflow:From C:\\Users\\user\\anaconda3\\Lib\\site-packages\\keras\\src\\backend.py:1398: The name tf.executing_eagerly_outside_functions is deprecated. Please use tf.compat.v1.executing_eagerly_outside_functions instead.\n",
      "\n",
      "WARNING:tensorflow:From C:\\Users\\user\\anaconda3\\Lib\\site-packages\\keras\\src\\layers\\pooling\\max_pooling2d.py:161: The name tf.nn.max_pool is deprecated. Please use tf.nn.max_pool2d instead.\n",
      "\n",
      "1/1 [==============================] - 0s 464ms/step\n",
      "false\n",
      "결과는 false\n"
     ]
    },
    {
     "data": {
      "text/plain": [
       "5"
      ]
     },
     "execution_count": 8,
     "metadata": {},
     "output_type": "execute_result"
    }
   ],
   "source": [
    "# model = load_model('D:/pythonProject/pythonProject1/best_model.h5')\n",
    "# image_path = save_path\n",
    "# image = Image.open(image_path)\n",
    "# image = image.resize((150, 150))\n",
    "# image = np.array(image) / 255.0\n",
    "\n",
    "# predictions = model.predict(np.expand_dims(image, axis=0))\n",
    "\n",
    "# # 임계값에 따른 합격/탈락 판단\n",
    "# if predictions[0] > 0.9:\n",
    "#     result = \"pass\"\n",
    "#     print(result)\n",
    "# else:\n",
    "#     result = \"false\"\n",
    "#     print(result)\n",
    "# # return result\n",
    "# print(\"결과는\",result)\n",
    "# # 연결 종료\n",
    "# # msg=result\n",
    "# client_socket.send(result.encode('utf-8'))\n",
    "# # client_socket.close()"
   ]
  }
 ],
 "metadata": {
  "kernelspec": {
   "display_name": "Python 3 (ipykernel)",
   "language": "python",
   "name": "python3"
  },
  "language_info": {
   "codemirror_mode": {
    "name": "ipython",
    "version": 3
   },
   "file_extension": ".py",
   "mimetype": "text/x-python",
   "name": "python",
   "nbconvert_exporter": "python",
   "pygments_lexer": "ipython3",
   "version": "3.11.7"
  }
 },
 "nbformat": 4,
 "nbformat_minor": 5
}
